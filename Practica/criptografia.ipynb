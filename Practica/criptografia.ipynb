{
  "nbformat": 4,
  "nbformat_minor": 0,
  "metadata": {
    "colab": {
      "provenance": [],
      "authorship_tag": "ABX9TyOvMxSBL6VFWvQWShR7uCix",
      "include_colab_link": true
    },
    "kernelspec": {
      "name": "python3",
      "display_name": "Python 3"
    },
    "language_info": {
      "name": "python"
    }
  },
  "cells": [
    {
      "cell_type": "markdown",
      "metadata": {
        "id": "view-in-github",
        "colab_type": "text"
      },
      "source": [
        "<a href=\"https://colab.research.google.com/github/ricardovsa8/Learning-python/blob/main/Practica/criptografia.ipynb\" target=\"_parent\"><img src=\"https://colab.research.google.com/assets/colab-badge.svg\" alt=\"Open In Colab\"/></a>"
      ]
    },
    {
      "cell_type": "code",
      "execution_count": 5,
      "metadata": {
        "colab": {
          "base_uri": "https://localhost:8080/"
        },
        "id": "bZFkXZw4ard_",
        "outputId": "a09c11bc-960f-4d14-a911-8613e36e07f4"
      },
      "outputs": [
        {
          "output_type": "stream",
          "name": "stdout",
          "text": [
            "Texto cifrado: b'gAAAAABn3dnCSQ9ynZd3EIkh6dBzV36gxW3v8g3Y8p1VjmL_OC9-fbdZ8FewoFkKLpSpqsImjnxAmfN3mldJL77FUiAXrgWFf-2ozl2hGNQm8bEVz9bNGmtMih25DuW2OlVwGCE5BC0L'\n",
            "Texto plano:b'Hola mundo, este es un mensaje cifrado'\n",
            "\n",
            "Comprobando si el texto descifrado es el mismo que nuestro mensaje o no\n",
            "Si, son iguales\n",
            "\n"
          ]
        }
      ],
      "source": [
        "#Author: Ricardo Vargas\n",
        "\n",
        "#Cifrar  un texto\n",
        "\n",
        "from cryptography.fernet import Fernet\n",
        "\n",
        "key = Fernet.generate_key()\n",
        "cipher_suite = Fernet(key)\n",
        "message = \"Hola mundo, este es un mensaje cifrado\".encode()\n",
        "\n",
        "cipher_text = cipher_suite.encrypt(message)\n",
        "print('Texto cifrado: ' + str(cipher_text))\n",
        "\n",
        "plain_text = cipher_suite.decrypt(cipher_text)\n",
        "print('Texto plano:' + str(plain_text))\n",
        "\n",
        "print('\\nComprobando si el texto descifrado es el mismo que nuestro mensaje o no')\n",
        "\n",
        "if plain_text == message: print(\"Si, son iguales\\n\")"
      ]
    }
  ]
}