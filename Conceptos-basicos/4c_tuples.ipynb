{
  "nbformat": 4,
  "nbformat_minor": 0,
  "metadata": {
    "colab": {
      "provenance": [],
      "authorship_tag": "ABX9TyPrpxmDGoKymg4h0bp+Go3s",
      "include_colab_link": true
    },
    "kernelspec": {
      "name": "python3",
      "display_name": "Python 3"
    },
    "language_info": {
      "name": "python"
    }
  },
  "cells": [
    {
      "cell_type": "markdown",
      "metadata": {
        "id": "view-in-github",
        "colab_type": "text"
      },
      "source": [
        "<a href=\"https://colab.research.google.com/github/ricardovsa8/Learning-python/blob/main/Conceptos-basicos/4c_tuples.ipynb\" target=\"_parent\"><img src=\"https://colab.research.google.com/assets/colab-badge.svg\" alt=\"Open In Colab\"/></a>"
      ]
    },
    {
      "cell_type": "code",
      "execution_count": null,
      "metadata": {
        "id": "bZFkXZw4ard_"
      },
      "outputs": [],
      "source": [
        "#Author: Ricardo Vargas\n",
        "\n",
        "# Empty Tuple initialization\n",
        "tup = ()\n",
        "print(tup)\n",
        "\n",
        "# Tuple initialization with data\n",
        "# I didn't like this way thought ;)\n",
        "tup1 = 'python', 'aws', 'security'\n",
        "print(tup1)\n",
        "\n",
        "# Another for doing the same\n",
        "tup2 = ('python', 'django', 'linux')\n",
        "print(tup2)\n",
        "\n",
        "# Concatenation\n",
        "tup3 = tup1 + tup2\n",
        "print(tup3)\n",
        "\n",
        "# Nesting of tuples\n",
        "tup4 = (tup1, tup2)\n",
        "print(tup4)\n",
        "\n",
        "# Length of a tuple\n",
        "print(len(tup3))\n",
        "print(len(tup4))\n",
        "\n",
        "# Tuple Indexing and slicing\n",
        "print(tup3[2])\n",
        "print(tup2[1:])\n",
        "\n",
        "# Deleting a tuple, removing individual element from the tuple is not possible. It deletes the whole tuple\n",
        "del tup4\n",
        "\n",
        "# Converts a list into tuple\n",
        "tup5 = tuple([\"Sanjeev\", '2021', \"Flexmind\"])\n",
        "print(tup5)\n",
        "\n",
        "# try tuple() to a string\n",
        "tup6 = tuple('Python')\n",
        "print(tup6)\n",
        "\n",
        "#Tuple iteration\n",
        "for tup in tup5:\n",
        "    print(tup)\n",
        "\n",
        "# Max and min method\n",
        "max_elem = max(tup1)\n",
        "print(\"max element: \", max_elem)\n",
        "print(\"min element: \", min(tup5))"
      ]
    }
  ]
}