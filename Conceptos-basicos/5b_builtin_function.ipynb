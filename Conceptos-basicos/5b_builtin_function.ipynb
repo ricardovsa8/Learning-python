{
  "nbformat": 4,
  "nbformat_minor": 0,
  "metadata": {
    "colab": {
      "provenance": [],
      "authorship_tag": "ABX9TyM1gQgv0CLqhJoiiEnSmgZl",
      "include_colab_link": true
    },
    "kernelspec": {
      "name": "python3",
      "display_name": "Python 3"
    },
    "language_info": {
      "name": "python"
    }
  },
  "cells": [
    {
      "cell_type": "markdown",
      "metadata": {
        "id": "view-in-github",
        "colab_type": "text"
      },
      "source": [
        "<a href=\"https://colab.research.google.com/github/ricardovsa8/Learning-python/blob/main/Conceptos-basicos/5b_builtin_function.ipynb\" target=\"_parent\"><img src=\"https://colab.research.google.com/assets/colab-badge.svg\" alt=\"Open In Colab\"/></a>"
      ]
    },
    {
      "cell_type": "code",
      "execution_count": null,
      "metadata": {
        "id": "bZFkXZw4ard_"
      },
      "outputs": [],
      "source": [
        "#Author: Ricardo Vargas\n",
        "\n",
        "#Input in CLI\n",
        "input_text = input(\"Enter something here and then press enter....   \")\n",
        "print(\"You entered: \",input_text)\n",
        "\n",
        "#Absolute or Mod\n",
        "n = abs(-12)\n",
        "print(\"Absolute value of -12 is: \",n)\n",
        "\n",
        "#Boolean Expression\n",
        "x=12>19\n",
        "print(\"Bool value of expression (12<19) is \",bool(x))\n",
        "\n",
        "data = {\n",
        "    \"id\": 1,\n",
        "    \"name\": \"Ramesh\",\n",
        "    \"designation\":\"SDE 1\",\n",
        "    \"Hobbies\": \"Loves playing football\"\n",
        "    }\n",
        "\n",
        "print(data,locals())"
      ]
    }
  ]
}