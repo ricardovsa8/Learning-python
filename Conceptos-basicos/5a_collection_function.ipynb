{
  "nbformat": 4,
  "nbformat_minor": 0,
  "metadata": {
    "colab": {
      "provenance": [],
      "authorship_tag": "ABX9TyPBUJ3+ZvZ/Y/DqKVUy3ODZ",
      "include_colab_link": true
    },
    "kernelspec": {
      "name": "python3",
      "display_name": "Python 3"
    },
    "language_info": {
      "name": "python"
    }
  },
  "cells": [
    {
      "cell_type": "markdown",
      "metadata": {
        "id": "view-in-github",
        "colab_type": "text"
      },
      "source": [
        "<a href=\"https://colab.research.google.com/github/ricardovsa8/Learning-python/blob/main/Conceptos-basicos/5a_collection_function.ipynb\" target=\"_parent\"><img src=\"https://colab.research.google.com/assets/colab-badge.svg\" alt=\"Open In Colab\"/></a>"
      ]
    },
    {
      "cell_type": "code",
      "execution_count": null,
      "metadata": {
        "id": "bZFkXZw4ard_"
      },
      "outputs": [],
      "source": [
        "#Author: Ricardo Vargas\n",
        "\n",
        "# Example of lambda, map, filter\n",
        "\n",
        "# 1) Sort the `people` list of dictionaries alphabetically based on the\n",
        "# 'name' key from each dictionary using the `sorted` function and store\n",
        "# the new list as `sorted_by_name`\n",
        "\n",
        "people = [\n",
        "    {\"name\": \"Kevin Bacon\", \"age\": 61},\n",
        "    {\"name\": \"Fred Ward\", \"age\": 77},\n",
        "    {\"name\": \"finn Carter\", \"age\": 59},\n",
        "    {\"name\": \"Ariana Richards\", \"age\": 40},\n",
        "    {\"name\": \"Victor Wong\", \"age\": 74},\n",
        "]\n",
        "\n",
        "# sorted_by_name = None\n",
        "sorted_by_name = sorted(people, key=lambda d: d['name'].lower())\n",
        "\n",
        "assert sorted_by_name == [\n",
        "    {\"name\": \"Ariana Richards\", \"age\": 40},\n",
        "    {\"name\": \"finn Carter\", \"age\": 59},\n",
        "    {\"name\": \"Fred Ward\", \"age\": 77},\n",
        "    {\"name\": \"Kevin Bacon\", \"age\": 61},\n",
        "    {\"name\": \"Victor Wong\", \"age\": 74},\n",
        "], f\"Expected sorted_by_name to equal '{sorted_by_name}' to equal '{[{'name': 'Ariana Richards', 'age': 40}, {'name': 'finn Carter', 'age': 59}, {'name': 'Fred Ward', 'age': 77}, {'name': 'Kevin Bacon', 'age': 61}, {'name': 'Victor Wong', 'age': 74}]}''\"\n",
        "\n",
        "# 2) Use the `map` function to iterate over `sorted_by_name` to generate a\n",
        "# new list called `name_declarations` where each value is a string with\n",
        "# `<NAME> is <AGE> years old.` where the `<NAME>` and `<AGE>` values are from\n",
        "# the dictionaries.\n",
        "\n",
        "# name_declarations = None\n",
        "name_declarations = list(\n",
        "    map(lambda d: f\"{d['name']} is {d['age']} years old\", sorted_by_name)\n",
        ")\n",
        "\n",
        "assert name_declarations == [\n",
        "    \"Ariana Richards is 40 years old\",\n",
        "    \"finn Carter is 59 years old\",\n",
        "    \"Fred Ward is 77 years old\",\n",
        "    \"Kevin Bacon is 61 years old\",\n",
        "    \"Victor Wong is 74 years old\",\n",
        "], f\"Expected name_declarations to equal '{name_declarations}' to equal '{['Ariana Richards is 40 years old', 'finn Carter is 59 years old', 'Fred Ward is 77 years old', 'Kevin Bacon is 61 years old', 'Victor Wong is 74 years old']}'\"\n",
        "\n",
        "# 3) Combine the `filter` and `sorted` functions to iterate over `sorted_by_name` to generate a\n",
        "# new list called `under_seventy` that only contains the dictionaries where the\n",
        "# 'age' key is less than 70, sorting the list by age.\n",
        "\n",
        "# under_seventy = None\n",
        "under_seventy = sorted(\n",
        "    filter(lambda d: d['age'] < 70, sorted_by_name), key=lambda d: d['age']\n",
        ")\n",
        "\n",
        "assert under_seventy == [\n",
        "    {\"name\": \"Ariana Richards\", \"age\": 40},\n",
        "    {\"name\": \"finn Carter\", \"age\": 59},\n",
        "    {\"name\": \"Kevin Bacon\", \"age\": 61},\n",
        "], f\"Expected under_seventy to equal '{under_seventy}' to equal '{[{'name': 'Ariana Richards', 'age': 40}, {'name': 'finn Carter', 'age': 59}, {'name': 'Kevin Bacon', 'age': 61}]}'\""
      ]
    }
  ]
}