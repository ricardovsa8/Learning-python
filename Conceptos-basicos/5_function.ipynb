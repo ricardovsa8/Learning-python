{
  "nbformat": 4,
  "nbformat_minor": 0,
  "metadata": {
    "colab": {
      "provenance": [],
      "authorship_tag": "ABX9TyPPGbxrFoyCw2E2UH3oPcCM",
      "include_colab_link": true
    },
    "kernelspec": {
      "name": "python3",
      "display_name": "Python 3"
    },
    "language_info": {
      "name": "python"
    }
  },
  "cells": [
    {
      "cell_type": "markdown",
      "metadata": {
        "id": "view-in-github",
        "colab_type": "text"
      },
      "source": [
        "<a href=\"https://colab.research.google.com/github/ricardovsa8/Learning-python/blob/main/Conceptos-basicos/5_function.ipynb\" target=\"_parent\"><img src=\"https://colab.research.google.com/assets/colab-badge.svg\" alt=\"Open In Colab\"/></a>"
      ]
    },
    {
      "cell_type": "code",
      "execution_count": null,
      "metadata": {
        "id": "bZFkXZw4ard_"
      },
      "outputs": [],
      "source": [
        "#Author: Ricardo Vargas\n",
        "\n",
        "'''def function_name():\n",
        "    {\n",
        "        # some code here\n",
        "    }\n",
        "'''\n",
        "\n",
        "# Different ways to pass parameters\n",
        "# What to return through function\n",
        "\n",
        "# A basic function of adding two numbers\n",
        "def add_numbers(num1, num2):\n",
        "    return num1+num2\n",
        "\n",
        "# How to call a function?\n",
        "# most basic way to call a function is `function_name()`\n",
        "# Calling above function\n",
        "print(add_numbers(5,4))\n",
        "\n",
        "# Function to find if a number is even\n",
        "def  is_even(num):\n",
        "    if num%2 == 0:\n",
        "        return True\n",
        "    return False\n",
        "\n",
        "num = 12\n",
        "result = is_even(num)\n",
        "if result:\n",
        "    print(f'{num} is even')\n",
        "else:\n",
        "    print(f'{num} is not even')"
      ]
    }
  ]
}